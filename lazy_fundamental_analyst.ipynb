{
 "cells": [
  {
   "cell_type": "markdown",
   "source": [
    "<h2>\n",
    "An Analysis of <i>The Lazy Fundamental Analyst</i>\n",
    "</h2>\n",
    "<p>\n",
    "The book <i>The Lazy Fundamental Analyst</i> by Fred Piard proposes an investment strategy that utilizes fundamental factors\n",
    "like Price Earnings (PE) and Return on Assets (ROA), combined with a market timing signal based on S&P 500 earnings per share\n",
    "momentum and unemployment momentum. This notebook attempts to verify some of these results.\n",
    "</p>\n",
    "<h3>\n",
    "Market Timing Signals\n",
    "</h3>\n",
    "<h4>\n",
    "EPS Estimate Momentum\n",
    "</h4>\n",
    "<blockquote>\n",
    "<p>\n",
    "\"EPS Estimate Momentum\" is an aggregate fundamental ratio over the S&P 500 Index. It gives a bearish signal when\n",
    "the S&P 500 current year EPS estimate is below its own value three months previously, and a bullish signal when it is\n",
    "above this value.\n",
    "</p>\n",
    "<p>\n",
    "<i>The Lazy Fundamental Analyst</i> by Fred Paird\n",
    "</p>\n",
    "</blockquote>\n",
    "<h4>\n",
    "Unemployment Momentum\n",
    "</h4>\n",
    "<blockquote>\n",
    "<p>\n",
    "It [Unemployment Momentum] gives a bearish signal when the US enemployment rate is above it's own value three months ago,\n",
    "and a bullish signal when it is below this value. The US unemployment rate is published once a month, usually in the first half\n",
    "of the month for the previous month.\n",
    "</p>\n",
    "</blockquote>\n",
    "<p>\n",
    "When one of the indicators is \"bullish\", the portfolio is invested in stocks. When the two indicators are \"bearish\" the\n",
    "portfolio is hedged with the ETF SH (ProShares 1x Short S&P 500).\n",
    "</p>\n",
    "<h3>\n",
    "EPS Estimate Momentum\n",
    "</h3>\n",
    "<p>\n",
    "Monthly S&P 500 earnings yield, by month, is published on the NASDAQ data site, along with several other S&P 500 statistics. See\n",
    "<a href=\"https://data.nasdaq.com/data/MULTPL-sp-500-ratios\">S&P 500 Ratios</a>. Fred Piard's EPS estimate momentum is the yearly\n",
    "sum, so the estimate for 12 months must be summed for the yearly value.\n",
    "</p>"
   ],
   "metadata": {
    "collapsed": false,
    "pycharm": {
     "name": "#%% md\n"
    }
   }
  },
  {
   "cell_type": "code",
   "execution_count": null,
   "metadata": {
    "collapsed": true,
    "pycharm": {
     "name": "#%%\n"
    }
   },
   "outputs": [],
   "source": [
    "from datetime import datetime, timedelta\n",
    "from typing import List, Callable\n",
    "\n",
    "import yfinance as yf\n",
    "import pandas as pd\n",
    "import numpy as np\n",
    "import matplotlib.pyplot as plt\n",
    "\n",
    "# https://data.nasdaq.com/tools/python\n",
    "# pip install Nasdaq-Data-Link\n",
    "import nasdaqdatalink as nasd\n",
    "from pandas import DatetimeIndex\n",
    "\n",
    "\n",
    "def convert_date(some_date):\n",
    "    if type(some_date) == str:\n",
    "        some_date = datetime.fromisoformat(some_date)\n",
    "    elif type(some_date) == np.datetime64:\n",
    "        ts = (some_date - np.datetime64('1970-01-01T00:00')) / np.timedelta64(1, 's')\n",
    "        some_date = datetime.utcfromtimestamp(ts)\n",
    "    return some_date\n",
    "\n",
    "\n",
    "def findDateIndex(date_index: DatetimeIndex, search_date: datetime) -> int:\n",
    "    '''\n",
    "    In a DatetimeIndex, find the index of the date that is nearest to search_date.\n",
    "    This date will either be equal to search_date or the next date that is less than\n",
    "    search_date\n",
    "    '''\n",
    "    index: int = -1\n",
    "    i = 0\n",
    "    search_date = convert_date(search_date)\n",
    "    date_t = datetime.today()\n",
    "    for i in range(0, len(date_index)):\n",
    "        date_t = convert_date(date_index[i])\n",
    "        if date_t >= search_date:\n",
    "            break\n",
    "    if date_t > search_date:\n",
    "        index = i - 1\n",
    "    else:\n",
    "        index = i\n",
    "    return index\n",
    "\n",
    "\n",
    "start_date_str = '2007-01-03'\n",
    "start_date: datetime = datetime.fromisoformat(start_date_str)\n",
    "# The \"current date\"\n",
    "end_date: datetime = datetime.today() - timedelta(days=1)\n",
    "\n",
    "# For all of the S&P ratios see https://data.nasdaq.com/data/MULTPL-sp-500-ratios\n",
    "# https://data.nasdaq.com/data/MULTPL/SP500_EARNINGS_YIELD_MONTH-sp-500-earnings-yield-by-month\n",
    "# Monthly EPS estimates from 1871(!) to present\n",
    "s_and_p_eps_raw = nasd.get(\"MULTPL/SP500_EARNINGS_YIELD_MONTH\")\n",
    "\n",
    "eps_index = s_and_p_eps_raw.index\n",
    "ix_start = findDateIndex(eps_index, start_date - timedelta(weeks=52))\n",
    "s_and_p_eps = s_and_p_eps_raw[:][ix_start:]\n",
    "\n",
    "s_and_p_eps.plot(grid=True, title=\"Monthly S&P 500 Earnings yield\", figsize=(10, 6))\n",
    "\n",
    "s_and_p_eps_yearly = s_and_p_eps.rolling(12).sum()\n",
    "s_and_p_eps_yearly = s_and_p_eps_yearly[:][12:]\n",
    "\n",
    "s_and_p_eps_yearly.plot(grid=True, title=\"Yearly S&P 500 Earnings yield\", figsize=(10, 6))"
   ]
  },
  {
   "cell_type": "markdown",
   "source": [
    "<h3>\n",
    "Unemployment Momentum\n",
    "</h3>\n",
    "<p>\n",
    "Fred Piard writes that unemployment data \"is widely broadcasted on fiancial and news websites. This is not much help for someone\n",
    "who wants to perform quantitative analysis of the unemployment rate as a market signal.\n",
    "</p>\n",
    "<p>\n",
    "United States unemployment rate statistics are published by the US Bureau of Labor Statistics. The data can be downloaded\n",
    "via a REST interface. To do this, a data code is required. The data code for the seasonally adjusted unemployment rate is:\n",
    "</p>\n",
    "<pre>\n",
    "Data ID: LNS14000000\n",
    "HTTP Type:\tGET\n",
    "URL (JSON):\thttps://api.bls.gov/publicAPI/v2/timeseries/data/\n",
    "</pre>\n",
    "<p>\n",
    "There is a Python library for accessing the BLS data: <a href=\"https://pypi.org/project/bls-data/\">PyBLS</a>. The BLS web site\n",
    "also publishes some code that does not use the PyBLS API. See\n",
    "<a href=\"https://www.bls.gov/developers/api_python.htm\">Accessing the Public Data with Python</a>\n",
    "</p>"
   ],
   "metadata": {
    "collapsed": false,
    "pycharm": {
     "name": "#%% md\n"
    }
   }
  },
  {
   "cell_type": "code",
   "execution_count": null,
   "outputs": [],
   "source": [],
   "metadata": {
    "collapsed": false,
    "pycharm": {
     "name": "#%%\n"
    }
   }
  }
 ],
 "metadata": {
  "kernelspec": {
   "display_name": "Python 3",
   "language": "python",
   "name": "python3"
  },
  "language_info": {
   "codemirror_mode": {
    "name": "ipython",
    "version": 2
   },
   "file_extension": ".py",
   "mimetype": "text/x-python",
   "name": "python",
   "nbconvert_exporter": "python",
   "pygments_lexer": "ipython2",
   "version": "2.7.6"
  }
 },
 "nbformat": 4,
 "nbformat_minor": 0
}
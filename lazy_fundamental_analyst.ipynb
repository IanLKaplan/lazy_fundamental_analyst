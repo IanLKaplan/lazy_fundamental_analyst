{
 "cells": [
  {
   "cell_type": "markdown",
   "source": [
    "<h2>\n",
    "An Analysis of <i>The Lazy Fundamental Analyst</i>\n",
    "</h2>\n",
    "<p>\n",
    "The book <i>The Lazy Fundamental Analyst</i> by Fred Piard proposes an investment strategy that utilizes fundamental factors\n",
    "like Price Earnings (PE) and Return on Assets (ROA), combined with a market timing signal based on S&P 500 earnings per share\n",
    "momentum and unemployment momentum. This notebook attempts to verify some of these results.\n",
    "</p>\n",
    "<h3>\n",
    "Market Timing Signals\n",
    "</h3>\n",
    "<h4>\n",
    "EPS Estimate Momentum\n",
    "</h4>\n",
    "<blockquote>\n",
    "<p>\n",
    "\"EPS Estimate Momentum\" is an aggregate fundamental ratio over the S&P 500 Index. It gives a bearish signal when\n",
    "the S&P 500 current year EPS estimate is below its own value three months previously, and a bullish signal when it is\n",
    "above this value.\n",
    "</p>\n",
    "<p>\n",
    "<i>The Lazy Fundamental Analyst</i> by Fred Paird\n",
    "</p>\n",
    "</blockquote>\n",
    "<h4>\n",
    "Unemployment Momentum\n",
    "</h4>\n",
    "<blockquote>\n",
    "<p>\n",
    "It [Unemployment Momentum] gives a bearish signal when the US enemployment rate is above it's own value three months ago,\n",
    "and a bullish signal when it is below this value. The US unemployment rate is published once a month, usually in the first half\n",
    "of the month for the previous month.\n",
    "</p>\n",
    "</blockquote>\n",
    "<p>\n",
    "When one of the indicators is \"bullish\", the portfolio is invested in stocks. When the two indicators are \"bearish\" the\n",
    "portfolio is hedged with the ETF SH (ProShares 1x Short S&P 500).\n",
    "</p>\n"
   ],
   "metadata": {
    "collapsed": false,
    "pycharm": {
     "name": "#%% md\n"
    }
   }
  },
  {
   "cell_type": "code",
   "execution_count": null,
   "metadata": {
    "collapsed": true,
    "pycharm": {
     "name": "#%%\n"
    }
   },
   "outputs": [],
   "source": []
  }
 ],
 "metadata": {
  "kernelspec": {
   "display_name": "Python 3",
   "language": "python",
   "name": "python3"
  },
  "language_info": {
   "codemirror_mode": {
    "name": "ipython",
    "version": 2
   },
   "file_extension": ".py",
   "mimetype": "text/x-python",
   "name": "python",
   "nbconvert_exporter": "python",
   "pygments_lexer": "ipython2",
   "version": "2.7.6"
  }
 },
 "nbformat": 4,
 "nbformat_minor": 0
}